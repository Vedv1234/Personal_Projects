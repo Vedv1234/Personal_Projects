"""
Author: Ved Vyas
Co-Author / Exercise provided by / Resources provided by: Mosh Hamedani Python Coding projects (2023)
Functionality of code:
    I created this music genre recommender that uses decision trees to predict what genre someone might like based on their 
    age and gender. I can either train a new model or load a pre-trained one, and visualize the decision tree that it creates.
    It's a great example of using machine learning for personalized recommendations.
"""

# First I'll import all the libraries I need for the project
import pandas as pd
from sklearn.tree import DecisionTreeClassifier
from sklearn.model_selection import train_test_split 
from sklearn.metrics import accuracy_score
import joblib

# I commented out the training code since I'm using a pre-trained model
# But here's how I originally trained it:
# music_data = pd.read_csv('/content/sample_data/music.csv')
# X = music_data.drop(columns=['genre'])  # Features for prediction
# y = music_data['genre']  # What we want to predict
# X_train,X_test,y_train,y_test = train_test_split(X,y,test_size=0.2)
# model = DecisionTreeClassifier()
# model.fit(X_train,y_train)
# predictions = model.predict(X_test)

# Now I'll load my pre-trained model and make a prediction
model = joblib.load('music-recommender.joblib')
predictions = model.predict([[72,1]])  # Predicting genre for a 72-year old male
predictions

# This would show the accuracy score of our model
# score = accuracy_score(y_test ,predictions)
# score

# Here I'm setting up visualization of the decision tree
from sklearn import tree
tree.export_graphviz(model, out_file='music-recommender.dot',
                    feature_names=['age','gender'],
                    class_names=sorted(y.unique()),
                    label='all',
                    rounded=True,
                    filled=True)

# Now I'll install the necessary visualization libraries and create a visual representation
# Install necessary libraries
!pip install graphviz
!pip install pydotplus

# Import required libraries
import pydotplus
from IPython.display import Image

# Read the .dot file I created earlier
with open('/content/music-recommender.dot', 'r') as file:
    dot_data = file.read()

# Generate the graph from dot data and display it
graph = pydotplus.graph_from_dot_data(dot_data)
Image(graph.create_png())